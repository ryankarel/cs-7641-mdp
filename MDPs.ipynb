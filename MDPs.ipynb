{
 "cells": [
  {
   "cell_type": "code",
   "execution_count": 1,
   "id": "804642e5",
   "metadata": {},
   "outputs": [],
   "source": [
    "import pandas as pd\n",
    "import numpy as np\n",
    "from blackjack import SimplifiedBlackjackMDP\n",
    "from snake import SnakeMDP, hashable_state, array_state\n",
    "import pickle\n",
    "import random\n",
    "import matplotlib.pyplot as plt"
   ]
  },
  {
   "cell_type": "markdown",
   "id": "54f4d0a3",
   "metadata": {},
   "source": [
    "## Construct MDP Examples"
   ]
  },
  {
   "cell_type": "code",
   "execution_count": 8,
   "id": "c17f24f6",
   "metadata": {
    "scrolled": true
   },
   "outputs": [
    {
     "name": "stdout",
     "output_type": "stream",
     "text": [
      "Trying max snake length 1 with 16 base combos\n",
      "100 states found...\n",
      "200 states found...\n",
      "300 states found...\n",
      "400 states found...\n",
      "500 states found...\n",
      "600 states found...\n",
      "700 states found...\n",
      "800 states found...\n",
      "900 states found...\n",
      "Trying max snake length 2 with 120 base combos\n",
      "1,000 states found...\n",
      "1,100 states found...\n",
      "1,200 states found...\n",
      "1,300 states found...\n",
      "1,400 states found...\n",
      "1,500 states found...\n",
      "1,600 states found...\n",
      "Trying max snake length 3 with 560 base combos\n",
      "1,700 states found...\n",
      "1,800 states found...\n",
      "1,900 states found...\n",
      "2,000 states found...\n",
      "2,100 states found...\n",
      "2,200 states found...\n",
      "2,300 states found...\n",
      "2,400 states found...\n",
      "2,500 states found...\n",
      "2,600 states found...\n",
      "2,700 states found...\n",
      "2,800 states found...\n",
      "2,900 states found...\n",
      "Trying max snake length 4 with 1,820 base combos\n",
      "3,000 states found...\n",
      "3,100 states found...\n",
      "3,200 states found...\n",
      "3,300 states found...\n",
      "3,400 states found...\n",
      "3,500 states found...\n",
      "3,600 states found...\n",
      "3,700 states found...\n",
      "3,800 states found...\n",
      "3,900 states found...\n",
      "4,000 states found...\n",
      "4,100 states found...\n",
      "4,200 states found...\n",
      "4,300 states found...\n",
      "4,400 states found...\n",
      "4,500 states found...\n",
      "4,600 states found...\n",
      "4,700 states found...\n",
      "4,800 states found...\n",
      "4,900 states found...\n",
      "5,000 states found...\n",
      "5,100 states found...\n",
      "5,200 states found...\n",
      "5,300 states found...\n",
      "5,400 states found...\n",
      "5,500 states found...\n",
      "5,600 states found...\n",
      "5,700 states found...\n"
     ]
    }
   ],
   "source": [
    "problems = {\n",
    "    'Snake': SnakeMDP(board_length=4, max_snake_length=5),\n",
    "    'Blackjack': SimplifiedBlackjackMDP()\n",
    "}"
   ]
  },
  {
   "cell_type": "code",
   "execution_count": 9,
   "id": "ec7022cc",
   "metadata": {},
   "outputs": [
    {
     "name": "stdout",
     "output_type": "stream",
     "text": [
      "Snake MDP has 5776 states.\n",
      "Blackjack MDP has 1271 states.\n"
     ]
    }
   ],
   "source": [
    "for key in problems:\n",
    "    print(f'{key} MDP has {len(problems[key].states)} states.')"
   ]
  },
  {
   "cell_type": "markdown",
   "id": "54ee745d",
   "metadata": {},
   "source": [
    "## Learn on these examples"
   ]
  },
  {
   "cell_type": "markdown",
   "id": "6c447b90",
   "metadata": {},
   "source": [
    "## Test accuracy with handpicked examples"
   ]
  },
  {
   "cell_type": "markdown",
   "id": "030deb23",
   "metadata": {},
   "source": [
    "## Develop graphs for these bad boys"
   ]
  },
  {
   "cell_type": "code",
   "execution_count": null,
   "id": "32475e96",
   "metadata": {},
   "outputs": [],
   "source": [
    "with open('snake_bl5_msl7_20221124.pkl', 'rb') as f:\n",
    "    snake_mdp = pickle.load(f)"
   ]
  },
  {
   "cell_type": "code",
   "execution_count": 3,
   "id": "1f788c09",
   "metadata": {},
   "outputs": [
    {
     "name": "stdout",
     "output_type": "stream",
     "text": [
      "Trying max snake length 1 with 9 base combos\n",
      "100 states found...\n",
      "200 states found...\n",
      "Trying max snake length 2 with 36 base combos\n",
      "300 states found...\n",
      "400 states found...\n",
      "Trying max snake length 3 with 84 base combos\n",
      "500 states found...\n",
      "600 states found...\n",
      "700 states found...\n"
     ]
    }
   ],
   "source": [
    "snake_mdp = SnakeMDP(board_length=3, max_snake_length=4)"
   ]
  },
  {
   "cell_type": "code",
   "execution_count": null,
   "id": "a3760898",
   "metadata": {
    "scrolled": true
   },
   "outputs": [],
   "source": [
    "snake_policy, snake_q = snake_mdp.Q_learning(gamma=0.9, epsilon=0.001)"
   ]
  },
  {
   "cell_type": "code",
   "execution_count": 4,
   "id": "390b6af8",
   "metadata": {},
   "outputs": [
    {
     "name": "stdout",
     "output_type": "stream",
     "text": [
      "At iteration 1, max change in value: 1.04341; avg. change: 0.21854\n",
      "At iteration 2, max change in value: 0.93907; avg. change: 0.30082\n",
      "At iteration 3, max change in value: 0.84516; avg. change: 0.23794\n",
      "At iteration 4, max change in value: 0.72900; avg. change: 0.23923\n",
      "At iteration 5, max change in value: 0.52715; avg. change: 0.19515\n",
      "At iteration 6, max change in value: 0.40357; avg. change: 0.14404\n",
      "At iteration 7, max change in value: 0.28788; avg. change: 0.09297\n",
      "At iteration 8, max change in value: 0.21717; avg. change: 0.06434\n",
      "At iteration 9, max change in value: 0.10865; avg. change: 0.04583\n",
      "At iteration 10, max change in value: 0.09713; avg. change: 0.03332\n",
      "At iteration 11, max change in value: 0.05735; avg. change: 0.02417\n",
      "At iteration 12, max change in value: 0.05162; avg. change: 0.01714\n",
      "At iteration 13, max change in value: 0.04646; avg. change: 0.01276\n",
      "At iteration 14, max change in value: 0.04181; avg. change: 0.00947\n",
      "At iteration 15, max change in value: 0.02469; avg. change: 0.00679\n",
      "At iteration 16, max change in value: 0.02222; avg. change: 0.00499\n",
      "At iteration 17, max change in value: 0.02000; avg. change: 0.00373\n",
      "At iteration 18, max change in value: 0.01800; avg. change: 0.00279\n",
      "At iteration 19, max change in value: 0.01063; avg. change: 0.00205\n",
      "At iteration 20, max change in value: 0.00956; avg. change: 0.00150\n"
     ]
    }
   ],
   "source": [
    "snake_policy, snake_q, stats = snake_mdp.value_iteration(gamma=0.9, epsilon=0.01)"
   ]
  },
  {
   "cell_type": "code",
   "execution_count": null,
   "id": "44b7a845",
   "metadata": {},
   "outputs": [],
   "source": [
    "snake_policy, snake_value = mdp.policy_iteration(gamma=0.5, epsilon=0.0001, max_allowed_time=720)\n",
    "\n",
    "# s = ((1.0, 1.0, 0.0, 0.0, 0.0, 2.0, 0.0, 0.0, 0.0, 0.0, 3.0, 0.0, 0.0, 0.0, 0.0, 0.0, 0.0, 0.0, 0.0, 0.0, 0.0, 0.0, 0.0, 0.0, 0.0), 'down')\n",
    "# array_state(s)\n",
    "# array_state(mdp.accessible_states(s, 'down')[0])\n",
    "\n",
    "for s in random.sample(mdp.states, k=5):\n",
    "    print(f'\\nFor state s = \\n{array_state(s)}')\n",
    "    print(f'the recommended action is: {snake_policy[s]}')"
   ]
  },
  {
   "cell_type": "code",
   "execution_count": null,
   "id": "bedc6d7b",
   "metadata": {},
   "outputs": [],
   "source": [
    "# take a state and visualize it\n",
    "\n",
    "def plot(s):\n",
    "    board, last_direction = array_state(s)\n",
    "    plt.imshow(board, interpolation='none')\n",
    "    plt.title(f\"Snake with last move='{s[1]}'\")\n",
    "    plt.show()"
   ]
  },
  {
   "cell_type": "code",
   "execution_count": null,
   "id": "78efd7b6",
   "metadata": {},
   "outputs": [],
   "source": [
    "plot(example_4)"
   ]
  },
  {
   "cell_type": "code",
   "execution_count": null,
   "id": "f8ee68d2",
   "metadata": {},
   "outputs": [],
   "source": [
    "snake_policy[example_4]"
   ]
  },
  {
   "cell_type": "code",
   "execution_count": null,
   "id": "5ec773bc",
   "metadata": {},
   "outputs": [],
   "source": [
    "\n",
    "mdp = SimplifiedBlackjackMDP()\n",
    "\n",
    "\n",
    "mdp._sample_state_layout()\n",
    "\n",
    "for s in mdp.accessible_states((11, 3, 'hitting'), 'hit'):\n",
    "    print(s, mdp.reward(s))\n",
    "mdp.transition_model((19, 6, 'hitting'), 'hold', (19, 6, 'stand'))\n",
    "\n",
    "blackjack_policy, blackjack_value = mdp.policy_iteration(gamma=0.99999, epsilon=1e-5)\n",
    "blackjack_policy, blackjack_value = mdp.value_iteration(gamma=0.99999, epsilon=1e-5)\n",
    "\n",
    "policy_visualization = pd.DataFrame(\n",
    "    index=pd.Index(range(2, 12), name='Dealer Value'),\n",
    "    columns=pd.Index(range(2, 22), name='Player Value'),\n",
    "    dtype='string'\n",
    ")\n",
    "for i in range(2, 12):\n",
    "    for j in range(2, 22):\n",
    "        policy_visualization.loc[i, j] = blackjack_policy[(j, i, 'hitting')]\n",
    "\n",
    "policy_visualization.iloc[:, 5:15]\n",
    "\n",
    "value_visualization = pd.DataFrame(\n",
    "    index=pd.Index(range(2, 12), name='Dealer Value'),\n",
    "    columns=pd.Index(range(2, 22), name='Player Value'),\n",
    "    dtype='float'\n",
    ")\n",
    "for i in range(2, 12):\n",
    "    for j in range(2, 22):\n",
    "        value_visualization.loc[i, j] = np.round(blackjack_value[(j, i, 'hitting')], 1)\n",
    "\n",
    "value_visualization.iloc[:, 5:15]\n"
   ]
  },
  {
   "cell_type": "code",
   "execution_count": 2,
   "id": "a7fed6ab",
   "metadata": {},
   "outputs": [],
   "source": [
    "example_1 = hashable_state(\n",
    "    (np.array([[0., 0., 0., 0., 0.],\n",
    "               [0., 0., 0., 0., 0.],\n",
    "               [0., 0., 0., 0., 0.],\n",
    "               [0., 0., 0., 0., 0.],x\n",
    "               [3., 1., 1., 1., 2.]]),\n",
    "     'right')\n",
    ")\n",
    "\n",
    "example_2 = hashable_state(\n",
    "    (np.array([[0., 0., 0., 0., 0.],\n",
    "               [0., 0., 0., 3., 0.],\n",
    "               [0., 0., 0., 0., 0.],\n",
    "               [0., 0., 0., 2., 0.],\n",
    "               [0., 1., 1., 1., 0.]]),\n",
    "     'up')\n",
    ")\n",
    "\n",
    "example_3 = hashable_state(\n",
    "    (np.array([[0., 0., 0., 0.],\n",
    "               [0., 0., 3., 0.],\n",
    "               [0., 0., 0., 0.],\n",
    "               [0., 1., 2., 0.]]),\n",
    "     'right')\n",
    ")\n",
    "\n",
    "example_4 = hashable_state(\n",
    "    (np.array([[0., 0., 0.],\n",
    "               [0., 1., 1.],\n",
    "               [0., 2., 3.]]),\n",
    "     'down')\n",
    ")\n",
    "s = example_2"
   ]
  }
 ],
 "metadata": {
  "kernelspec": {
   "display_name": "Python 3 (ipykernel)",
   "language": "python",
   "name": "python3"
  },
  "language_info": {
   "codemirror_mode": {
    "name": "ipython",
    "version": 3
   },
   "file_extension": ".py",
   "mimetype": "text/x-python",
   "name": "python",
   "nbconvert_exporter": "python",
   "pygments_lexer": "ipython3",
   "version": "3.8.13"
  }
 },
 "nbformat": 4,
 "nbformat_minor": 5
}
