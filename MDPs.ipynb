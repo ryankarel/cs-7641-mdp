{
 "cells": [
  {
   "cell_type": "code",
   "execution_count": 1,
   "id": "804642e5",
   "metadata": {},
   "outputs": [],
   "source": [
    "import pandas as pd\n",
    "import numpy as np\n",
    "from blackjack import SimplifiedBlackjackMDP\n",
    "from snake import SnakeMDP, hashable_state, array_state\n",
    "import pickle\n",
    "import random\n",
    "import matplotlib.pyplot as plt\n",
    "import time\n",
    "\n",
    "from tqdm.notebook import tqdm"
   ]
  },
  {
   "cell_type": "markdown",
   "id": "119bfc9e",
   "metadata": {},
   "source": [
    "## Construct MDP Examples"
   ]
  },
  {
   "cell_type": "code",
   "execution_count": 2,
   "id": "5d30c12e",
   "metadata": {},
   "outputs": [
    {
     "name": "stdout",
     "output_type": "stream",
     "text": [
      "Trying max snake length 1 with 9 base combos\n",
      "100 states found...\n",
      "200 states found...\n",
      "Trying max snake length 2 with 36 base combos\n",
      "300 states found...\n",
      "400 states found...\n"
     ]
    }
   ],
   "source": [
    "problems = {\n",
    "    'Snake': SnakeMDP(board_length=3, max_snake_length=3),\n",
    "    'Blackjack': SimplifiedBlackjackMDP()\n",
    "}"
   ]
  },
  {
   "cell_type": "code",
   "execution_count": 3,
   "id": "2d5f6816",
   "metadata": {},
   "outputs": [
    {
     "name": "stdout",
     "output_type": "stream",
     "text": [
      "Snake MDP has 464 states.\n",
      "Blackjack MDP has 1271 states.\n"
     ]
    }
   ],
   "source": [
    "for key in problems:\n",
    "    print(f'{key} MDP has {len(problems[key].states)} states.')"
   ]
  },
  {
   "cell_type": "markdown",
   "id": "0fe4edd4",
   "metadata": {},
   "source": [
    "## Learn on these examples"
   ]
  },
  {
   "cell_type": "code",
   "execution_count": 4,
   "id": "6937e50b",
   "metadata": {},
   "outputs": [],
   "source": [
    "params = {\n",
    "    'PI': [\n",
    "        {'gamma': 0.99, 'epsilon': 0.001},\n",
    "        {'gamma': 0.99, 'epsilon': 0.25},\n",
    "        {'gamma': 0.75, 'epsilon': 0.001},\n",
    "        {'gamma': 0.75, 'epsilon': 0.25},\n",
    "        {'gamma': 0.50, 'epsilon': 0.001},\n",
    "        {'gamma': 0.50, 'epsilon': 0.25},\n",
    "        {'gamma': 0.25, 'epsilon': 0.001},\n",
    "        {'gamma': 0.25, 'epsilon': 0.25},\n",
    "    ],\n",
    "    'VI': [\n",
    "        {'gamma': 0.99, 'epsilon': 0.001},\n",
    "        {'gamma': 0.99, 'epsilon': 0.25},\n",
    "        {'gamma': 0.75, 'epsilon': 0.001},\n",
    "        {'gamma': 0.75, 'epsilon': 0.25},\n",
    "        {'gamma': 0.50, 'epsilon': 0.001},\n",
    "        {'gamma': 0.50, 'epsilon': 0.25},\n",
    "        {'gamma': 0.25, 'epsilon': 0.001},\n",
    "        {'gamma': 0.25, 'epsilon': 0.25},\n",
    "    ],\n",
    "    'Q-learning': [\n",
    "        {'decay_pattern': 'mitchell',        'initialization': 'zeros',        'exploration': 'uniform'  },\n",
    "        {'decay_pattern': 'mitchell',        'initialization': 'first_reward', 'exploration': 'uniform'  },\n",
    "        {'decay_pattern': 'mitchell',        'initialization': 'zeros',        'exploration': 'q-optimal'},\n",
    "        {'decay_pattern': 'mitchell',        'initialization': 'first_reward', 'exploration': 'q-optimal'},\n",
    "        {'decay_pattern': 'iteration_based', 'initialization': 'zeros',        'exploration': 'uniform'  },\n",
    "        {'decay_pattern': 'iteration_based', 'initialization': 'first_reward', 'exploration': 'uniform'  },\n",
    "        {'decay_pattern': 'iteration_based', 'initialization': 'zeros',        'exploration': 'q-optimal'},\n",
    "        {'decay_pattern': 'iteration_based', 'initialization': 'first_reward', 'exploration': 'q-optimal'},\n",
    "    ]\n",
    "}"
   ]
  },
  {
   "cell_type": "code",
   "execution_count": 5,
   "id": "5e61faa0",
   "metadata": {},
   "outputs": [],
   "source": [
    "def params_to_text(d):\n",
    "    text = ''\n",
    "    for i, k in enumerate(d):\n",
    "        text += f'{k}={d[k]}'\n",
    "        if i < len(d) - 1:\n",
    "            text += '; '\n",
    "    return text"
   ]
  },
  {
   "cell_type": "code",
   "execution_count": 6,
   "id": "74978edf",
   "metadata": {},
   "outputs": [],
   "source": [
    "self = problems['Snake']"
   ]
  },
  {
   "cell_type": "code",
   "execution_count": 7,
   "id": "5aa7069f",
   "metadata": {},
   "outputs": [
    {
     "name": "stdout",
     "output_type": "stream",
     "text": [
      "Beginning iteration i=1\n",
      "((0.0, 0.0, 0.0, 0.0, 0.0, 3.0, 0.0, 0.0, 2.0), 'left') left\n",
      "((0.0, 0.0, 0.0, 0.0, 0.0, 3.0, 0.0, 2.0, 0.0), 'left') down\n",
      "(None, 'down') right\n"
     ]
    },
    {
     "ename": "KeyError",
     "evalue": "(None, 'right')",
     "output_type": "error",
     "traceback": [
      "\u001b[1;31m---------------------------------------------------------------------------\u001b[0m",
      "\u001b[1;31mKeyError\u001b[0m                                  Traceback (most recent call last)",
      "\u001b[1;32m~\\AppData\\Local\\Temp\\ipykernel_31568\\1455581506.py\u001b[0m in \u001b[0;36m<module>\u001b[1;34m\u001b[0m\n\u001b[1;32m----> 1\u001b[1;33m \u001b[0mself\u001b[0m\u001b[1;33m.\u001b[0m\u001b[0mQ_learning\u001b[0m\u001b[1;33m(\u001b[0m\u001b[1;33m)\u001b[0m\u001b[1;33m\u001b[0m\u001b[1;33m\u001b[0m\u001b[0m\n\u001b[0m",
      "\u001b[1;32m~\\cs-7641-mdp\\mdp.py\u001b[0m in \u001b[0;36mQ_learning\u001b[1;34m(self, gamma, epsilon, decay_pattern, initialization, exploration, random_state, max_allowed_time, max_iter, iteration_based_decay_factor)\u001b[0m\n\u001b[0;32m    287\u001b[0m                     \u001b[0ms\u001b[0m \u001b[1;33m=\u001b[0m \u001b[0ms_prime\u001b[0m\u001b[1;33m\u001b[0m\u001b[1;33m\u001b[0m\u001b[0m\n\u001b[0;32m    288\u001b[0m \u001b[1;33m\u001b[0m\u001b[0m\n\u001b[1;32m--> 289\u001b[1;33m                 \u001b[0mQ\u001b[0m\u001b[1;33m[\u001b[0m\u001b[1;33m(\u001b[0m\u001b[0ms\u001b[0m\u001b[1;33m,\u001b[0m \u001b[0ma\u001b[0m\u001b[1;33m)\u001b[0m\u001b[1;33m]\u001b[0m \u001b[1;33m=\u001b[0m \u001b[0malpha\u001b[0m \u001b[1;33m*\u001b[0m \u001b[0mQ\u001b[0m\u001b[1;33m[\u001b[0m\u001b[1;33m(\u001b[0m\u001b[0ms\u001b[0m\u001b[1;33m,\u001b[0m \u001b[0ma\u001b[0m\u001b[1;33m)\u001b[0m\u001b[1;33m]\u001b[0m \u001b[1;33m+\u001b[0m \u001b[1;33m(\u001b[0m\u001b[1;36m1\u001b[0m \u001b[1;33m-\u001b[0m \u001b[0malpha\u001b[0m\u001b[1;33m)\u001b[0m \u001b[1;33m*\u001b[0m \u001b[0mproposed_value\u001b[0m\u001b[1;33m\u001b[0m\u001b[1;33m\u001b[0m\u001b[0m\n\u001b[0m\u001b[0;32m    290\u001b[0m             \u001b[1;31m# episode over\u001b[0m\u001b[1;33m\u001b[0m\u001b[1;33m\u001b[0m\u001b[1;33m\u001b[0m\u001b[0m\n\u001b[0;32m    291\u001b[0m \u001b[1;33m\u001b[0m\u001b[0m\n",
      "\u001b[1;31mKeyError\u001b[0m: (None, 'right')"
     ]
    }
   ],
   "source": [
    "self.Q_learning()"
   ]
  },
  {
   "cell_type": "code",
   "execution_count": null,
   "id": "bf5b7fb2",
   "metadata": {},
   "outputs": [],
   "source": [
    "visits = {\n",
    "            (s, a): 0\n",
    "            for s in self.states\n",
    "            for a in self.available_actions(s)\n",
    "        }"
   ]
  },
  {
   "cell_type": "code",
   "execution_count": 8,
   "id": "5a51dac5",
   "metadata": {},
   "outputs": [
    {
     "ename": "NameError",
     "evalue": "name 'visits' is not defined",
     "output_type": "error",
     "traceback": [
      "\u001b[1;31m---------------------------------------------------------------------------\u001b[0m",
      "\u001b[1;31mNameError\u001b[0m                                 Traceback (most recent call last)",
      "\u001b[1;32m~\\AppData\\Local\\Temp\\ipykernel_31568\\4039428919.py\u001b[0m in \u001b[0;36m<module>\u001b[1;34m\u001b[0m\n\u001b[1;32m----> 1\u001b[1;33m \u001b[0mvisits\u001b[0m\u001b[1;33m[\u001b[0m\u001b[1;33m(\u001b[0m\u001b[1;32mNone\u001b[0m\u001b[1;33m,\u001b[0m \u001b[1;34m'left'\u001b[0m\u001b[1;33m)\u001b[0m\u001b[1;33m]\u001b[0m\u001b[1;33m\u001b[0m\u001b[1;33m\u001b[0m\u001b[0m\n\u001b[0m",
      "\u001b[1;31mNameError\u001b[0m: name 'visits' is not defined"
     ]
    }
   ],
   "source": [
    "visits[(None, 'left')]"
   ]
  },
  {
   "cell_type": "code",
   "execution_count": 9,
   "id": "654f6c11",
   "metadata": {},
   "outputs": [
    {
     "data": {
      "text/plain": [
       "['up', 'down', 'left', 'right']"
      ]
     },
     "execution_count": 9,
     "metadata": {},
     "output_type": "execute_result"
    }
   ],
   "source": [
    "self.available_actions((None, 'left'))"
   ]
  },
  {
   "cell_type": "code",
   "execution_count": null,
   "id": "6f7bde66",
   "metadata": {},
   "outputs": [],
   "source": [
    "start = time.time()\n",
    "results = {}\n",
    "for problem_name in tqdm(problems):\n",
    "    results[problem_name] = {}\n",
    "    for algo in tqdm(params):\n",
    "        results[problem_name][algo] = {}\n",
    "        for parameterization in tqdm(params[algo]):\n",
    "            print(f'{problem_name}-{algo}-{parameterization} @ {(time.time() - start) / 60:.1f}s')\n",
    "            \n",
    "            if algo == 'PI':\n",
    "                output = problems[problem_name].policy_iteration(**parameterization)\n",
    "            elif algo == 'VI':\n",
    "                output = problems[problem_name].value_iteration(**parameterization)\n",
    "            elif algo == 'Q-learning':\n",
    "                output = problems[problem_name].Q_learning(**parameterization)\n",
    "            else:\n",
    "                raise Exception('Unexpected...')\n",
    "                \n",
    "            results[problem_name][algo][params_to_text(parameterization)] = output\n",
    "    "
   ]
  },
  {
   "cell_type": "markdown",
   "id": "7fadd24c",
   "metadata": {},
   "source": [
    "## Test accuracy with handpicked examples"
   ]
  },
  {
   "cell_type": "markdown",
   "id": "9b1ab554",
   "metadata": {},
   "source": [
    "## Develop graphs for these bad boys"
   ]
  },
  {
   "cell_type": "code",
   "execution_count": null,
   "id": "32475e96",
   "metadata": {},
   "outputs": [],
   "source": [
    "with open('snake_bl5_msl7_20221124.pkl', 'rb') as f:\n",
    "    snake_mdp = pickle.load(f)"
   ]
  },
  {
   "cell_type": "code",
   "execution_count": null,
   "id": "1f788c09",
   "metadata": {},
   "outputs": [],
   "source": [
    "snake_mdp = SnakeMDP(board_length=3, max_snake_length=4)"
   ]
  },
  {
   "cell_type": "code",
   "execution_count": null,
   "id": "a3760898",
   "metadata": {
    "scrolled": true
   },
   "outputs": [],
   "source": [
    "snake_policy, snake_q = snake_mdp.Q_learning(gamma=0.9, epsilon=0.001)"
   ]
  },
  {
   "cell_type": "code",
   "execution_count": null,
   "id": "390b6af8",
   "metadata": {},
   "outputs": [],
   "source": [
    "snake_policy, snake_q, stats = snake_mdp.value_iteration(gamma=0.9, epsilon=0.01)"
   ]
  },
  {
   "cell_type": "code",
   "execution_count": null,
   "id": "44b7a845",
   "metadata": {},
   "outputs": [],
   "source": [
    "snake_policy, snake_value = mdp.policy_iteration(gamma=0.5, epsilon=0.0001, max_allowed_time=720)\n",
    "\n",
    "# s = ((1.0, 1.0, 0.0, 0.0, 0.0, 2.0, 0.0, 0.0, 0.0, 0.0, 3.0, 0.0, 0.0, 0.0, 0.0, 0.0, 0.0, 0.0, 0.0, 0.0, 0.0, 0.0, 0.0, 0.0, 0.0), 'down')\n",
    "# array_state(s)\n",
    "# array_state(mdp.accessible_states(s, 'down')[0])\n",
    "\n",
    "for s in random.sample(mdp.states, k=5):\n",
    "    print(f'\\nFor state s = \\n{array_state(s)}')\n",
    "    print(f'the recommended action is: {snake_policy[s]}')"
   ]
  },
  {
   "cell_type": "code",
   "execution_count": null,
   "id": "bedc6d7b",
   "metadata": {},
   "outputs": [],
   "source": [
    "# take a state and visualize it\n",
    "\n",
    "def plot(s):\n",
    "    board, last_direction = array_state(s)\n",
    "    plt.imshow(board, interpolation='none')\n",
    "    plt.title(f\"Snake with last move='{s[1]}'\")\n",
    "    plt.show()"
   ]
  },
  {
   "cell_type": "code",
   "execution_count": null,
   "id": "78efd7b6",
   "metadata": {},
   "outputs": [],
   "source": [
    "plot(example_4)"
   ]
  },
  {
   "cell_type": "code",
   "execution_count": null,
   "id": "f8ee68d2",
   "metadata": {},
   "outputs": [],
   "source": [
    "snake_policy[example_4]"
   ]
  },
  {
   "cell_type": "code",
   "execution_count": null,
   "id": "5ec773bc",
   "metadata": {},
   "outputs": [],
   "source": [
    "\n",
    "mdp = SimplifiedBlackjackMDP()\n",
    "\n",
    "\n",
    "mdp._sample_state_layout()\n",
    "\n",
    "for s in mdp.accessible_states((11, 3, 'hitting'), 'hit'):\n",
    "    print(s, mdp.reward(s))\n",
    "mdp.transition_model((19, 6, 'hitting'), 'hold', (19, 6, 'stand'))\n",
    "\n",
    "blackjack_policy, blackjack_value = mdp.policy_iteration(gamma=0.99999, epsilon=1e-5)\n",
    "blackjack_policy, blackjack_value = mdp.value_iteration(gamma=0.99999, epsilon=1e-5)\n",
    "\n",
    "policy_visualization = pd.DataFrame(\n",
    "    index=pd.Index(range(2, 12), name='Dealer Value'),\n",
    "    columns=pd.Index(range(2, 22), name='Player Value'),\n",
    "    dtype='string'\n",
    ")\n",
    "for i in range(2, 12):\n",
    "    for j in range(2, 22):\n",
    "        policy_visualization.loc[i, j] = blackjack_policy[(j, i, 'hitting')]\n",
    "\n",
    "policy_visualization.iloc[:, 5:15]\n",
    "\n",
    "value_visualization = pd.DataFrame(\n",
    "    index=pd.Index(range(2, 12), name='Dealer Value'),\n",
    "    columns=pd.Index(range(2, 22), name='Player Value'),\n",
    "    dtype='float'\n",
    ")\n",
    "for i in range(2, 12):\n",
    "    for j in range(2, 22):\n",
    "        value_visualization.loc[i, j] = np.round(blackjack_value[(j, i, 'hitting')], 1)\n",
    "\n",
    "value_visualization.iloc[:, 5:15]\n"
   ]
  },
  {
   "cell_type": "code",
   "execution_count": null,
   "id": "9868d518",
   "metadata": {},
   "outputs": [],
   "source": [
    "example_1 = hashable_state(\n",
    "    (np.array([[0., 0., 0., 0., 0.],\n",
    "               [0., 0., 0., 0., 0.],\n",
    "               [0., 0., 0., 0., 0.],\n",
    "               [0., 0., 0., 0., 0.],x\n",
    "               [3., 1., 1., 1., 2.]]),\n",
    "     'right')\n",
    ")\n",
    "\n",
    "example_2 = hashable_state(\n",
    "    (np.array([[0., 0., 0., 0., 0.],\n",
    "               [0., 0., 0., 3., 0.],\n",
    "               [0., 0., 0., 0., 0.],\n",
    "               [0., 0., 0., 2., 0.],\n",
    "               [0., 1., 1., 1., 0.]]),\n",
    "     'up')\n",
    ")\n",
    "\n",
    "example_3 = hashable_state(\n",
    "    (np.array([[0., 0., 0., 0.],\n",
    "               [0., 0., 3., 0.],\n",
    "               [0., 0., 0., 0.],\n",
    "               [0., 1., 2., 0.]]),\n",
    "     'right')\n",
    ")\n",
    "\n",
    "example_4 = hashable_state(\n",
    "    (np.array([[0., 0., 0.],\n",
    "               [0., 1., 1.],\n",
    "               [0., 2., 3.]]),\n",
    "     'down')\n",
    ")\n",
    "s = example_2"
   ]
  }
 ],
 "metadata": {
  "kernelspec": {
   "display_name": "Python 3 (ipykernel)",
   "language": "python",
   "name": "python3"
  },
  "language_info": {
   "codemirror_mode": {
    "name": "ipython",
    "version": 3
   },
   "file_extension": ".py",
   "mimetype": "text/x-python",
   "name": "python",
   "nbconvert_exporter": "python",
   "pygments_lexer": "ipython3",
   "version": "3.8.13"
  }
 },
 "nbformat": 4,
 "nbformat_minor": 5
}
