{
 "cells": [
  {
   "cell_type": "code",
   "execution_count": 1,
   "id": "09befe14",
   "metadata": {},
   "outputs": [],
   "source": [
    "import pandas as pd\n",
    "import numpy as np\n",
    "from blackjack import SimplifiedBlackjackMDP\n",
    "from snake import SnakeMDP, hashable_state, array_state\n",
    "import pickle\n",
    "import random\n",
    "import matplotlib.pyplot as plt\n",
    "import time\n",
    "\n",
    "from tqdm.notebook import tqdm"
   ]
  },
  {
   "cell_type": "markdown",
   "id": "c78b4319",
   "metadata": {},
   "source": [
    "# Construct MDP Examples"
   ]
  },
  {
   "cell_type": "code",
   "execution_count": 2,
   "id": "4c637391",
   "metadata": {
    "collapsed": true
   },
   "outputs": [
    {
     "name": "stdout",
     "output_type": "stream",
     "text": [
      "Trying max snake length 1 with 16 base combos\n",
      "100 states found...\n",
      "200 states found...\n",
      "300 states found...\n",
      "400 states found...\n",
      "500 states found...\n",
      "600 states found...\n",
      "700 states found...\n",
      "800 states found...\n",
      "900 states found...\n",
      "Trying max snake length 2 with 120 base combos\n",
      "1,000 states found...\n",
      "1,100 states found...\n",
      "1,200 states found...\n",
      "1,300 states found...\n",
      "1,400 states found...\n",
      "1,500 states found...\n",
      "1,600 states found...\n",
      "Trying max snake length 3 with 560 base combos\n",
      "1,700 states found...\n",
      "1,800 states found...\n",
      "1,900 states found...\n",
      "2,000 states found...\n",
      "2,100 states found...\n",
      "2,200 states found...\n",
      "2,300 states found...\n",
      "2,400 states found...\n",
      "2,500 states found...\n",
      "2,600 states found...\n",
      "2,700 states found...\n",
      "2,800 states found...\n",
      "2,900 states found...\n",
      "Trying max snake length 4 with 1,820 base combos\n",
      "3,000 states found...\n",
      "3,100 states found...\n",
      "3,200 states found...\n",
      "3,300 states found...\n",
      "3,400 states found...\n",
      "3,500 states found...\n",
      "3,600 states found...\n",
      "3,700 states found...\n",
      "3,800 states found...\n",
      "3,900 states found...\n",
      "4,000 states found...\n",
      "4,100 states found...\n",
      "4,200 states found...\n",
      "4,300 states found...\n",
      "4,400 states found...\n",
      "4,500 states found...\n",
      "4,600 states found...\n",
      "4,700 states found...\n",
      "4,800 states found...\n",
      "4,900 states found...\n",
      "5,000 states found...\n",
      "5,100 states found...\n",
      "5,200 states found...\n",
      "5,300 states found...\n",
      "5,400 states found...\n",
      "5,500 states found...\n",
      "5,600 states found...\n",
      "5,700 states found...\n"
     ]
    }
   ],
   "source": [
    "problems = {\n",
    "    'Snake': SnakeMDP(board_length=4, max_snake_length=5),\n",
    "    'Blackjack': SimplifiedBlackjackMDP()\n",
    "}"
   ]
  },
  {
   "cell_type": "code",
   "execution_count": 3,
   "id": "4c02d8b5",
   "metadata": {},
   "outputs": [
    {
     "name": "stdout",
     "output_type": "stream",
     "text": [
      "Snake MDP has 5776 states.\n",
      "Blackjack MDP has 1271 states.\n"
     ]
    }
   ],
   "source": [
    "for key in problems:\n",
    "    print(f'{key} MDP has {len(problems[key].states)} states.')"
   ]
  },
  {
   "cell_type": "code",
   "execution_count": 4,
   "id": "212f4210",
   "metadata": {},
   "outputs": [],
   "source": [
    "params = {\n",
    "    'PI': [\n",
    "        {'gamma': 0.99, 'epsilon': 0.001},\n",
    "        {'gamma': 0.99, 'epsilon': 0.25},\n",
    "        #{'gamma': 0.75, 'epsilon': 0.001},\n",
    "        #{'gamma': 0.75, 'epsilon': 0.25},\n",
    "        #{'gamma': 0.50, 'epsilon': 0.001},\n",
    "        #{'gamma': 0.50, 'epsilon': 0.25},\n",
    "        {'gamma': 0.25, 'epsilon': 0.001},\n",
    "        {'gamma': 0.25, 'epsilon': 0.25},\n",
    "    ],\n",
    "    'VI': [\n",
    "        {'gamma': 0.99, 'epsilon': 0.001},\n",
    "        {'gamma': 0.99, 'epsilon': 0.25},\n",
    "        #{'gamma': 0.75, 'epsilon': 0.001},\n",
    "        #{'gamma': 0.75, 'epsilon': 0.25},\n",
    "        #{'gamma': 0.50, 'epsilon': 0.001},\n",
    "        #{'gamma': 0.50, 'epsilon': 0.25},\n",
    "        {'gamma': 0.25, 'epsilon': 0.001},\n",
    "        {'gamma': 0.25, 'epsilon': 0.25},\n",
    "    ],\n",
    "    'Q-learning': [\n",
    "        {'decay_pattern': 'mitchell',        'initialization': 'zeros',        'exploration': 'introduce-randomness' , 'epsilon': 0.01 },\n",
    "        {'decay_pattern': 'mitchell',        'initialization': 'first_reward', 'exploration': 'introduce-randomness' , 'epsilon': 0.05 },\n",
    "        {'decay_pattern': 'mitchell',        'initialization': 'zeros',        'exploration': 'q-optimal'            , 'epsilon': 0.01 },\n",
    "        {'decay_pattern': 'mitchell',        'initialization': 'first_reward', 'exploration': 'q-optimal'            , 'epsilon': 0.10 },\n",
    "        #{'decay_pattern': 'iteration_based', 'initialization': 'zeros',        'exploration': 'introduce-randomness', 'epsilon': 0.01 },\n",
    "        {'decay_pattern': 'iteration_based', 'initialization': 'first_reward', 'exploration': 'introduce-randomness' , 'epsilon': 0.10 },\n",
    "        #{'decay_pattern': 'iteration_based', 'initialization': 'zeros',        'exploration': 'q-optimal'           , 'epsilon': 0.01 },\n",
    "        {'decay_pattern': 'iteration_based', 'initialization': 'first_reward', 'exploration': 'q-optimal'            , 'epsilon': 0.05 },\n",
    "    ]\n",
    "}"
   ]
  },
  {
   "cell_type": "code",
   "execution_count": 5,
   "id": "217300b2",
   "metadata": {},
   "outputs": [],
   "source": [
    "def params_to_text(d):\n",
    "    text = ''\n",
    "    for i, k in enumerate(d):\n",
    "        text += f'{k}={d[k]}'\n",
    "        if i < len(d) - 1:\n",
    "            text += '; '\n",
    "    return text"
   ]
  },
  {
   "cell_type": "code",
   "execution_count": 6,
   "id": "cc53fb85",
   "metadata": {
    "scrolled": true
   },
   "outputs": [
    {
     "data": {
      "application/vnd.jupyter.widget-view+json": {
       "model_id": "f624f14eb1e1471580fdc01baa7ee49c",
       "version_major": 2,
       "version_minor": 0
      },
      "text/plain": [
       "  0%|          | 0/2 [00:00<?, ?it/s]"
      ]
     },
     "metadata": {},
     "output_type": "display_data"
    },
    {
     "data": {
      "application/vnd.jupyter.widget-view+json": {
       "model_id": "81cbce8b106946f59a9cac1fa1df3eef",
       "version_major": 2,
       "version_minor": 0
      },
      "text/plain": [
       "  0%|          | 0/3 [00:00<?, ?it/s]"
      ]
     },
     "metadata": {},
     "output_type": "display_data"
    },
    {
     "data": {
      "application/vnd.jupyter.widget-view+json": {
       "model_id": "5f6696e65ad24ca69f84b09333c023c5",
       "version_major": 2,
       "version_minor": 0
      },
      "text/plain": [
       "  0%|          | 0/4 [00:00<?, ?it/s]"
      ]
     },
     "metadata": {},
     "output_type": "display_data"
    },
    {
     "name": "stdout",
     "output_type": "stream",
     "text": [
      "Snake-PI-{'gamma': 0.99, 'epsilon': 0.001} @ 0.0m\n",
      "Snake-PI-{'gamma': 0.99, 'epsilon': 0.25} @ 9.4m\n",
      "Snake-PI-{'gamma': 0.25, 'epsilon': 0.001} @ 13.0m\n",
      "Snake-PI-{'gamma': 0.25, 'epsilon': 0.25} @ 15.4m\n"
     ]
    },
    {
     "data": {
      "application/vnd.jupyter.widget-view+json": {
       "model_id": "5382345fc7c041fd8db16ae1585b4f02",
       "version_major": 2,
       "version_minor": 0
      },
      "text/plain": [
       "  0%|          | 0/4 [00:00<?, ?it/s]"
      ]
     },
     "metadata": {},
     "output_type": "display_data"
    },
    {
     "name": "stdout",
     "output_type": "stream",
     "text": [
      "Snake-VI-{'gamma': 0.99, 'epsilon': 0.001} @ 17.7m\n",
      "Snake-VI-{'gamma': 0.99, 'epsilon': 0.25} @ 18.8m\n",
      "Snake-VI-{'gamma': 0.25, 'epsilon': 0.001} @ 19.7m\n",
      "Snake-VI-{'gamma': 0.25, 'epsilon': 0.25} @ 20.1m\n"
     ]
    },
    {
     "data": {
      "application/vnd.jupyter.widget-view+json": {
       "model_id": "cd08e6300c9f43e882fca23494db8d05",
       "version_major": 2,
       "version_minor": 0
      },
      "text/plain": [
       "  0%|          | 0/6 [00:00<?, ?it/s]"
      ]
     },
     "metadata": {},
     "output_type": "display_data"
    },
    {
     "name": "stdout",
     "output_type": "stream",
     "text": [
      "Snake-Q-learning-{'decay_pattern': 'mitchell', 'initialization': 'zeros', 'exploration': 'introduce-randomness', 'epsilon': 0.01} @ 20.4m\n",
      "Snake-Q-learning-{'decay_pattern': 'mitchell', 'initialization': 'first_reward', 'exploration': 'introduce-randomness', 'epsilon': 0.05} @ 40.5m\n",
      "Snake-Q-learning-{'decay_pattern': 'mitchell', 'initialization': 'zeros', 'exploration': 'q-optimal', 'epsilon': 0.01} @ 40.7m\n",
      "Snake-Q-learning-{'decay_pattern': 'mitchell', 'initialization': 'first_reward', 'exploration': 'q-optimal', 'epsilon': 0.1} @ 60.8m\n",
      "Snake-Q-learning-{'decay_pattern': 'iteration_based', 'initialization': 'first_reward', 'exploration': 'introduce-randomness', 'epsilon': 0.1} @ 61.0m\n",
      "Snake-Q-learning-{'decay_pattern': 'iteration_based', 'initialization': 'first_reward', 'exploration': 'q-optimal', 'epsilon': 0.05} @ 61.0m\n"
     ]
    },
    {
     "data": {
      "application/vnd.jupyter.widget-view+json": {
       "model_id": "32fff89109ab440a8d38f488b2e6e279",
       "version_major": 2,
       "version_minor": 0
      },
      "text/plain": [
       "  0%|          | 0/3 [00:00<?, ?it/s]"
      ]
     },
     "metadata": {},
     "output_type": "display_data"
    },
    {
     "data": {
      "application/vnd.jupyter.widget-view+json": {
       "model_id": "799df313e3dc48ad96446d02de58a7e5",
       "version_major": 2,
       "version_minor": 0
      },
      "text/plain": [
       "  0%|          | 0/4 [00:00<?, ?it/s]"
      ]
     },
     "metadata": {},
     "output_type": "display_data"
    },
    {
     "name": "stdout",
     "output_type": "stream",
     "text": [
      "Blackjack-PI-{'gamma': 0.99, 'epsilon': 0.001} @ 61.0m\n",
      "Blackjack-PI-{'gamma': 0.99, 'epsilon': 0.25} @ 61.1m\n",
      "Blackjack-PI-{'gamma': 0.25, 'epsilon': 0.001} @ 61.1m\n",
      "Blackjack-PI-{'gamma': 0.25, 'epsilon': 0.25} @ 61.1m\n"
     ]
    },
    {
     "data": {
      "application/vnd.jupyter.widget-view+json": {
       "model_id": "b6199534d4524c52a8c6633baa06044e",
       "version_major": 2,
       "version_minor": 0
      },
      "text/plain": [
       "  0%|          | 0/4 [00:00<?, ?it/s]"
      ]
     },
     "metadata": {},
     "output_type": "display_data"
    },
    {
     "name": "stdout",
     "output_type": "stream",
     "text": [
      "Blackjack-VI-{'gamma': 0.99, 'epsilon': 0.001} @ 61.1m\n",
      "Blackjack-VI-{'gamma': 0.99, 'epsilon': 0.25} @ 61.2m\n",
      "Blackjack-VI-{'gamma': 0.25, 'epsilon': 0.001} @ 61.2m\n",
      "Blackjack-VI-{'gamma': 0.25, 'epsilon': 0.25} @ 61.2m\n"
     ]
    },
    {
     "data": {
      "application/vnd.jupyter.widget-view+json": {
       "model_id": "1837c7a7e51d476c8dbb4b28f781f3ca",
       "version_major": 2,
       "version_minor": 0
      },
      "text/plain": [
       "  0%|          | 0/6 [00:00<?, ?it/s]"
      ]
     },
     "metadata": {},
     "output_type": "display_data"
    },
    {
     "name": "stdout",
     "output_type": "stream",
     "text": [
      "Blackjack-Q-learning-{'decay_pattern': 'mitchell', 'initialization': 'zeros', 'exploration': 'introduce-randomness', 'epsilon': 0.01} @ 61.2m\n",
      "Blackjack-Q-learning-{'decay_pattern': 'mitchell', 'initialization': 'first_reward', 'exploration': 'introduce-randomness', 'epsilon': 0.05} @ 61.2m\n",
      "Blackjack-Q-learning-{'decay_pattern': 'mitchell', 'initialization': 'zeros', 'exploration': 'q-optimal', 'epsilon': 0.01} @ 76.7m\n",
      "Blackjack-Q-learning-{'decay_pattern': 'mitchell', 'initialization': 'first_reward', 'exploration': 'q-optimal', 'epsilon': 0.1} @ 76.7m\n",
      "Blackjack-Q-learning-{'decay_pattern': 'iteration_based', 'initialization': 'first_reward', 'exploration': 'introduce-randomness', 'epsilon': 0.1} @ 76.7m\n",
      "Blackjack-Q-learning-{'decay_pattern': 'iteration_based', 'initialization': 'first_reward', 'exploration': 'q-optimal', 'epsilon': 0.05} @ 76.7m\n"
     ]
    }
   ],
   "source": [
    "start = time.time()\n",
    "results = {}\n",
    "for problem_name in tqdm(problems):\n",
    "    results[problem_name] = {}\n",
    "    for algo in tqdm(params):\n",
    "        results[problem_name][algo] = {}\n",
    "        for parameterization in tqdm(params[algo]):\n",
    "            print(f'{problem_name}-{algo}-{parameterization} @ {(time.time() - start) / 60:.1f}m')\n",
    "            \n",
    "            if algo == 'PI':\n",
    "                output = problems[problem_name].policy_iteration(**parameterization)\n",
    "            elif algo == 'VI':\n",
    "                output = problems[problem_name].value_iteration(**parameterization)\n",
    "            elif algo == 'Q-learning':\n",
    "                output = problems[problem_name].Q_learning(**parameterization)\n",
    "            else:\n",
    "                raise Exception('Unexpected...')\n",
    "                \n",
    "            results[problem_name][algo][params_to_text(parameterization)] = output"
   ]
  },
  {
   "cell_type": "code",
   "execution_count": 7,
   "id": "6c6dfec4",
   "metadata": {},
   "outputs": [],
   "source": [
    "with open('results.pkl', 'wb') as f:\n",
    "    pickle.dump(results, f)"
   ]
  },
  {
   "cell_type": "markdown",
   "id": "e6bbcdb0",
   "metadata": {},
   "source": [
    "# Testing for accuracy"
   ]
  },
  {
   "cell_type": "code",
   "execution_count": null,
   "id": "af968fdd",
   "metadata": {},
   "outputs": [],
   "source": [
    "def plot(s):\n",
    "    board, last_direction = array_state(s)\n",
    "    plt.imshow(board, interpolation='none')\n",
    "    plt.title(f\"Snake with last move='{s[1]}'\")\n",
    "    plt.show()"
   ]
  },
  {
   "cell_type": "code",
   "execution_count": 16,
   "id": "ad03664a",
   "metadata": {},
   "outputs": [],
   "source": [
    "snake_example_0 = hashable_state(\n",
    "    (np.array([[0., 0., 3., 0.],\n",
    "               [0., 0., 0., 0.],\n",
    "               [0., 0., 0., 0.],\n",
    "               [0., 0., 2., 0.]]),\n",
    "     'right')\n",
    ")\n",
    "\n",
    "snake_example_1 = hashable_state(\n",
    "    (np.array([[0., 0., 2., 0.],\n",
    "               [0., 0., 1., 0.],\n",
    "               [0., 0., 0., 0.],\n",
    "               [0., 3., 0., 0.]]),\n",
    "     'up')\n",
    ")\n",
    "\n",
    "snake_example_2 = hashable_state(\n",
    "    (np.array([[0., 2., 1., 0.],\n",
    "               [0., 0., 0., 0.],\n",
    "               [0., 0., 0., 0.],\n",
    "               [0., 3., 0., 0.]]),\n",
    "     'left')\n",
    ")\n",
    "\n",
    "snake_example_3 = hashable_state(\n",
    "    (np.array([[0., 0., 0., 3.],\n",
    "               [0., 1., 0., 0.],\n",
    "               [0., 1., 0., 0.],\n",
    "               [0., 2., 0., 0.]]),\n",
    "     'down')\n",
    ")\n",
    "\n",
    "snake_example_4 = hashable_state(\n",
    "    (np.array([[0., 0., 0., 0.],\n",
    "               [0., 0., 0., 0.],\n",
    "               [0., 0., 1., 1.],\n",
    "               [0., 0., 2., 3.]]),\n",
    "     'down')\n",
    ")\n",
    "\n",
    "correct_snake_answers = [\n",
    "    (snake_example_0, 'up'),\n",
    "    (snake_example_1, 'left'),\n",
    "    (snake_example_2, 'down'),\n",
    "    (snake_example_3, 'right'),\n",
    "    (snake_example_4, 'left')\n",
    "]"
   ]
  },
  {
   "cell_type": "code",
   "execution_count": 20,
   "id": "ce34b6d0",
   "metadata": {},
   "outputs": [],
   "source": [
    "blackjack_example_0 = (2, 7, 'hitting')\n",
    "blackjack_example_1 = (10, 7, 'hitting')\n",
    "blackjack_example_2 = (18, 6, 'hitting')\n",
    "blackjack_example_3 = (16, 6, 'hitting')\n",
    "blackjack_example_4 = (11, 11, 'hitting')\n",
    "\n",
    "correct_blackjack_answers = [\n",
    "    (blackjack_example_0, 'hit'),\n",
    "    (blackjack_example_1, 'hit'),\n",
    "    (blackjack_example_2, 'hold'),\n",
    "    (blackjack_example_3, 'hold'),\n",
    "    (blackjack_example_4, 'hit')\n",
    "]"
   ]
  },
  {
   "cell_type": "code",
   "execution_count": 21,
   "id": "a65f9f8d",
   "metadata": {},
   "outputs": [],
   "source": [
    "accuracy = pd.DataFrame()\n",
    "\n",
    "for problem_name in results:\n",
    "    for algo in results[problem_name]:\n",
    "        for parameterization in results[problem_name][algo]:\n",
    "            policy, value_or_q, stats = results[problem_name][algo][parameterization]\n",
    "            key = f'{problem_name}-{algo}-{parameterization}'\n",
    "            if problem_name == 'Snake':\n",
    "                test = correct_snake_answers\n",
    "            else:\n",
    "                test = correct_blackjack_answers\n",
    "            for i, (question, answer) in enumerate(test):\n",
    "                col = f'Problem{i}'\n",
    "                correct = policy[question] == answer\n",
    "                accuracy.loc[key, col] = correct\n",
    "                "
   ]
  },
  {
   "cell_type": "code",
   "execution_count": 23,
   "id": "e60ea8af",
   "metadata": {},
   "outputs": [
    {
     "data": {
      "text/html": [
       "<div>\n",
       "<style scoped>\n",
       "    .dataframe tbody tr th:only-of-type {\n",
       "        vertical-align: middle;\n",
       "    }\n",
       "\n",
       "    .dataframe tbody tr th {\n",
       "        vertical-align: top;\n",
       "    }\n",
       "\n",
       "    .dataframe thead th {\n",
       "        text-align: right;\n",
       "    }\n",
       "</style>\n",
       "<table border=\"1\" class=\"dataframe\">\n",
       "  <thead>\n",
       "    <tr style=\"text-align: right;\">\n",
       "      <th></th>\n",
       "      <th>Problem0</th>\n",
       "      <th>Problem1</th>\n",
       "      <th>Problem2</th>\n",
       "      <th>Problem3</th>\n",
       "      <th>Problem4</th>\n",
       "    </tr>\n",
       "  </thead>\n",
       "  <tbody>\n",
       "    <tr>\n",
       "      <th>Snake-PI-gamma=0.99; epsilon=0.001</th>\n",
       "      <td>True</td>\n",
       "      <td>True</td>\n",
       "      <td>True</td>\n",
       "      <td>True</td>\n",
       "      <td>True</td>\n",
       "    </tr>\n",
       "    <tr>\n",
       "      <th>Snake-PI-gamma=0.99; epsilon=0.25</th>\n",
       "      <td>True</td>\n",
       "      <td>True</td>\n",
       "      <td>True</td>\n",
       "      <td>True</td>\n",
       "      <td>True</td>\n",
       "    </tr>\n",
       "    <tr>\n",
       "      <th>Snake-PI-gamma=0.25; epsilon=0.001</th>\n",
       "      <td>True</td>\n",
       "      <td>True</td>\n",
       "      <td>True</td>\n",
       "      <td>True</td>\n",
       "      <td>True</td>\n",
       "    </tr>\n",
       "    <tr>\n",
       "      <th>Snake-PI-gamma=0.25; epsilon=0.25</th>\n",
       "      <td>True</td>\n",
       "      <td>True</td>\n",
       "      <td>True</td>\n",
       "      <td>True</td>\n",
       "      <td>True</td>\n",
       "    </tr>\n",
       "    <tr>\n",
       "      <th>Snake-VI-gamma=0.99; epsilon=0.001</th>\n",
       "      <td>True</td>\n",
       "      <td>True</td>\n",
       "      <td>True</td>\n",
       "      <td>True</td>\n",
       "      <td>True</td>\n",
       "    </tr>\n",
       "    <tr>\n",
       "      <th>Snake-VI-gamma=0.99; epsilon=0.25</th>\n",
       "      <td>True</td>\n",
       "      <td>True</td>\n",
       "      <td>True</td>\n",
       "      <td>True</td>\n",
       "      <td>True</td>\n",
       "    </tr>\n",
       "    <tr>\n",
       "      <th>Snake-VI-gamma=0.25; epsilon=0.001</th>\n",
       "      <td>True</td>\n",
       "      <td>True</td>\n",
       "      <td>True</td>\n",
       "      <td>True</td>\n",
       "      <td>True</td>\n",
       "    </tr>\n",
       "    <tr>\n",
       "      <th>Snake-VI-gamma=0.25; epsilon=0.25</th>\n",
       "      <td>True</td>\n",
       "      <td>True</td>\n",
       "      <td>True</td>\n",
       "      <td>True</td>\n",
       "      <td>True</td>\n",
       "    </tr>\n",
       "    <tr>\n",
       "      <th>Snake-Q-learning-decay_pattern=mitchell; initialization=zeros; exploration=introduce-randomness; epsilon=0.01</th>\n",
       "      <td>True</td>\n",
       "      <td>True</td>\n",
       "      <td>True</td>\n",
       "      <td>True</td>\n",
       "      <td>True</td>\n",
       "    </tr>\n",
       "    <tr>\n",
       "      <th>Snake-Q-learning-decay_pattern=mitchell; initialization=first_reward; exploration=introduce-randomness; epsilon=0.05</th>\n",
       "      <td>True</td>\n",
       "      <td>True</td>\n",
       "      <td>True</td>\n",
       "      <td>True</td>\n",
       "      <td>True</td>\n",
       "    </tr>\n",
       "    <tr>\n",
       "      <th>Snake-Q-learning-decay_pattern=mitchell; initialization=zeros; exploration=q-optimal; epsilon=0.01</th>\n",
       "      <td>True</td>\n",
       "      <td>True</td>\n",
       "      <td>True</td>\n",
       "      <td>True</td>\n",
       "      <td>True</td>\n",
       "    </tr>\n",
       "    <tr>\n",
       "      <th>Snake-Q-learning-decay_pattern=mitchell; initialization=first_reward; exploration=q-optimal; epsilon=0.1</th>\n",
       "      <td>False</td>\n",
       "      <td>True</td>\n",
       "      <td>True</td>\n",
       "      <td>True</td>\n",
       "      <td>False</td>\n",
       "    </tr>\n",
       "    <tr>\n",
       "      <th>Snake-Q-learning-decay_pattern=iteration_based; initialization=first_reward; exploration=introduce-randomness; epsilon=0.1</th>\n",
       "      <td>False</td>\n",
       "      <td>False</td>\n",
       "      <td>True</td>\n",
       "      <td>False</td>\n",
       "      <td>False</td>\n",
       "    </tr>\n",
       "    <tr>\n",
       "      <th>Snake-Q-learning-decay_pattern=iteration_based; initialization=first_reward; exploration=q-optimal; epsilon=0.05</th>\n",
       "      <td>False</td>\n",
       "      <td>True</td>\n",
       "      <td>True</td>\n",
       "      <td>False</td>\n",
       "      <td>False</td>\n",
       "    </tr>\n",
       "    <tr>\n",
       "      <th>Blackjack-PI-gamma=0.99; epsilon=0.001</th>\n",
       "      <td>True</td>\n",
       "      <td>True</td>\n",
       "      <td>True</td>\n",
       "      <td>True</td>\n",
       "      <td>True</td>\n",
       "    </tr>\n",
       "    <tr>\n",
       "      <th>Blackjack-PI-gamma=0.99; epsilon=0.25</th>\n",
       "      <td>True</td>\n",
       "      <td>True</td>\n",
       "      <td>True</td>\n",
       "      <td>True</td>\n",
       "      <td>True</td>\n",
       "    </tr>\n",
       "    <tr>\n",
       "      <th>Blackjack-PI-gamma=0.25; epsilon=0.001</th>\n",
       "      <td>True</td>\n",
       "      <td>True</td>\n",
       "      <td>True</td>\n",
       "      <td>True</td>\n",
       "      <td>True</td>\n",
       "    </tr>\n",
       "    <tr>\n",
       "      <th>Blackjack-PI-gamma=0.25; epsilon=0.25</th>\n",
       "      <td>True</td>\n",
       "      <td>True</td>\n",
       "      <td>True</td>\n",
       "      <td>True</td>\n",
       "      <td>True</td>\n",
       "    </tr>\n",
       "    <tr>\n",
       "      <th>Blackjack-VI-gamma=0.99; epsilon=0.001</th>\n",
       "      <td>True</td>\n",
       "      <td>True</td>\n",
       "      <td>True</td>\n",
       "      <td>True</td>\n",
       "      <td>True</td>\n",
       "    </tr>\n",
       "    <tr>\n",
       "      <th>Blackjack-VI-gamma=0.99; epsilon=0.25</th>\n",
       "      <td>True</td>\n",
       "      <td>True</td>\n",
       "      <td>True</td>\n",
       "      <td>True</td>\n",
       "      <td>True</td>\n",
       "    </tr>\n",
       "    <tr>\n",
       "      <th>Blackjack-VI-gamma=0.25; epsilon=0.001</th>\n",
       "      <td>True</td>\n",
       "      <td>True</td>\n",
       "      <td>True</td>\n",
       "      <td>True</td>\n",
       "      <td>True</td>\n",
       "    </tr>\n",
       "    <tr>\n",
       "      <th>Blackjack-VI-gamma=0.25; epsilon=0.25</th>\n",
       "      <td>True</td>\n",
       "      <td>True</td>\n",
       "      <td>True</td>\n",
       "      <td>True</td>\n",
       "      <td>True</td>\n",
       "    </tr>\n",
       "    <tr>\n",
       "      <th>Blackjack-Q-learning-decay_pattern=mitchell; initialization=zeros; exploration=introduce-randomness; epsilon=0.01</th>\n",
       "      <td>False</td>\n",
       "      <td>False</td>\n",
       "      <td>True</td>\n",
       "      <td>True</td>\n",
       "      <td>False</td>\n",
       "    </tr>\n",
       "    <tr>\n",
       "      <th>Blackjack-Q-learning-decay_pattern=mitchell; initialization=first_reward; exploration=introduce-randomness; epsilon=0.05</th>\n",
       "      <td>False</td>\n",
       "      <td>True</td>\n",
       "      <td>True</td>\n",
       "      <td>True</td>\n",
       "      <td>False</td>\n",
       "    </tr>\n",
       "    <tr>\n",
       "      <th>Blackjack-Q-learning-decay_pattern=mitchell; initialization=zeros; exploration=q-optimal; epsilon=0.01</th>\n",
       "      <td>False</td>\n",
       "      <td>False</td>\n",
       "      <td>True</td>\n",
       "      <td>True</td>\n",
       "      <td>False</td>\n",
       "    </tr>\n",
       "    <tr>\n",
       "      <th>Blackjack-Q-learning-decay_pattern=mitchell; initialization=first_reward; exploration=q-optimal; epsilon=0.1</th>\n",
       "      <td>False</td>\n",
       "      <td>False</td>\n",
       "      <td>True</td>\n",
       "      <td>True</td>\n",
       "      <td>False</td>\n",
       "    </tr>\n",
       "    <tr>\n",
       "      <th>Blackjack-Q-learning-decay_pattern=iteration_based; initialization=first_reward; exploration=introduce-randomness; epsilon=0.1</th>\n",
       "      <td>False</td>\n",
       "      <td>False</td>\n",
       "      <td>True</td>\n",
       "      <td>True</td>\n",
       "      <td>False</td>\n",
       "    </tr>\n",
       "    <tr>\n",
       "      <th>Blackjack-Q-learning-decay_pattern=iteration_based; initialization=first_reward; exploration=q-optimal; epsilon=0.05</th>\n",
       "      <td>True</td>\n",
       "      <td>False</td>\n",
       "      <td>True</td>\n",
       "      <td>True</td>\n",
       "      <td>False</td>\n",
       "    </tr>\n",
       "  </tbody>\n",
       "</table>\n",
       "</div>"
      ],
      "text/plain": [
       "                                                   Problem0 Problem1 Problem2  \\\n",
       "Snake-PI-gamma=0.99; epsilon=0.001                     True     True     True   \n",
       "Snake-PI-gamma=0.99; epsilon=0.25                      True     True     True   \n",
       "Snake-PI-gamma=0.25; epsilon=0.001                     True     True     True   \n",
       "Snake-PI-gamma=0.25; epsilon=0.25                      True     True     True   \n",
       "Snake-VI-gamma=0.99; epsilon=0.001                     True     True     True   \n",
       "Snake-VI-gamma=0.99; epsilon=0.25                      True     True     True   \n",
       "Snake-VI-gamma=0.25; epsilon=0.001                     True     True     True   \n",
       "Snake-VI-gamma=0.25; epsilon=0.25                      True     True     True   \n",
       "Snake-Q-learning-decay_pattern=mitchell; initia...     True     True     True   \n",
       "Snake-Q-learning-decay_pattern=mitchell; initia...     True     True     True   \n",
       "Snake-Q-learning-decay_pattern=mitchell; initia...     True     True     True   \n",
       "Snake-Q-learning-decay_pattern=mitchell; initia...    False     True     True   \n",
       "Snake-Q-learning-decay_pattern=iteration_based;...    False    False     True   \n",
       "Snake-Q-learning-decay_pattern=iteration_based;...    False     True     True   \n",
       "Blackjack-PI-gamma=0.99; epsilon=0.001                 True     True     True   \n",
       "Blackjack-PI-gamma=0.99; epsilon=0.25                  True     True     True   \n",
       "Blackjack-PI-gamma=0.25; epsilon=0.001                 True     True     True   \n",
       "Blackjack-PI-gamma=0.25; epsilon=0.25                  True     True     True   \n",
       "Blackjack-VI-gamma=0.99; epsilon=0.001                 True     True     True   \n",
       "Blackjack-VI-gamma=0.99; epsilon=0.25                  True     True     True   \n",
       "Blackjack-VI-gamma=0.25; epsilon=0.001                 True     True     True   \n",
       "Blackjack-VI-gamma=0.25; epsilon=0.25                  True     True     True   \n",
       "Blackjack-Q-learning-decay_pattern=mitchell; in...    False    False     True   \n",
       "Blackjack-Q-learning-decay_pattern=mitchell; in...    False     True     True   \n",
       "Blackjack-Q-learning-decay_pattern=mitchell; in...    False    False     True   \n",
       "Blackjack-Q-learning-decay_pattern=mitchell; in...    False    False     True   \n",
       "Blackjack-Q-learning-decay_pattern=iteration_ba...    False    False     True   \n",
       "Blackjack-Q-learning-decay_pattern=iteration_ba...     True    False     True   \n",
       "\n",
       "                                                   Problem3 Problem4  \n",
       "Snake-PI-gamma=0.99; epsilon=0.001                     True     True  \n",
       "Snake-PI-gamma=0.99; epsilon=0.25                      True     True  \n",
       "Snake-PI-gamma=0.25; epsilon=0.001                     True     True  \n",
       "Snake-PI-gamma=0.25; epsilon=0.25                      True     True  \n",
       "Snake-VI-gamma=0.99; epsilon=0.001                     True     True  \n",
       "Snake-VI-gamma=0.99; epsilon=0.25                      True     True  \n",
       "Snake-VI-gamma=0.25; epsilon=0.001                     True     True  \n",
       "Snake-VI-gamma=0.25; epsilon=0.25                      True     True  \n",
       "Snake-Q-learning-decay_pattern=mitchell; initia...     True     True  \n",
       "Snake-Q-learning-decay_pattern=mitchell; initia...     True     True  \n",
       "Snake-Q-learning-decay_pattern=mitchell; initia...     True     True  \n",
       "Snake-Q-learning-decay_pattern=mitchell; initia...     True    False  \n",
       "Snake-Q-learning-decay_pattern=iteration_based;...    False    False  \n",
       "Snake-Q-learning-decay_pattern=iteration_based;...    False    False  \n",
       "Blackjack-PI-gamma=0.99; epsilon=0.001                 True     True  \n",
       "Blackjack-PI-gamma=0.99; epsilon=0.25                  True     True  \n",
       "Blackjack-PI-gamma=0.25; epsilon=0.001                 True     True  \n",
       "Blackjack-PI-gamma=0.25; epsilon=0.25                  True     True  \n",
       "Blackjack-VI-gamma=0.99; epsilon=0.001                 True     True  \n",
       "Blackjack-VI-gamma=0.99; epsilon=0.25                  True     True  \n",
       "Blackjack-VI-gamma=0.25; epsilon=0.001                 True     True  \n",
       "Blackjack-VI-gamma=0.25; epsilon=0.25                  True     True  \n",
       "Blackjack-Q-learning-decay_pattern=mitchell; in...     True    False  \n",
       "Blackjack-Q-learning-decay_pattern=mitchell; in...     True    False  \n",
       "Blackjack-Q-learning-decay_pattern=mitchell; in...     True    False  \n",
       "Blackjack-Q-learning-decay_pattern=mitchell; in...     True    False  \n",
       "Blackjack-Q-learning-decay_pattern=iteration_ba...     True    False  \n",
       "Blackjack-Q-learning-decay_pattern=iteration_ba...     True    False  "
      ]
     },
     "execution_count": 23,
     "metadata": {},
     "output_type": "execute_result"
    }
   ],
   "source": [
    "accuracy"
   ]
  },
  {
   "cell_type": "code",
   "execution_count": null,
   "id": "ce768874",
   "metadata": {},
   "outputs": [],
   "source": []
  }
 ],
 "metadata": {
  "kernelspec": {
   "display_name": "Python 3 (ipykernel)",
   "language": "python",
   "name": "python3"
  },
  "language_info": {
   "codemirror_mode": {
    "name": "ipython",
    "version": 3
   },
   "file_extension": ".py",
   "mimetype": "text/x-python",
   "name": "python",
   "nbconvert_exporter": "python",
   "pygments_lexer": "ipython3",
   "version": "3.8.13"
  }
 },
 "nbformat": 4,
 "nbformat_minor": 5
}
